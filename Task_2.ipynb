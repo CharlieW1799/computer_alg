{
  "nbformat": 4,
  "nbformat_minor": 0,
  "metadata": {
    "colab": {
      "name": "Копия блокнота \"Untitled1.ipynb\"",
      "provenance": [],
      "include_colab_link": true
    },
    "kernelspec": {
      "name": "python3",
      "display_name": "Python 3"
    }
  },
  "cells": [
    {
      "cell_type": "markdown",
      "metadata": {
        "id": "view-in-github",
        "colab_type": "text"
      },
      "source": [
        "<a href=\"https://colab.research.google.com/github/redars/computer_alg/blob/main/Task_2.ipynb\" target=\"_parent\"><img src=\"https://colab.research.google.com/assets/colab-badge.svg\" alt=\"Open In Colab\"/></a>"
      ]
    },
    {
      "cell_type": "code",
      "metadata": {
        "id": "yugqtJMkDch7"
      },
      "source": [
        "from IPython.display import display, Math\r\n",
        "import matplotlib.pyplot as plt\r\n",
        "class Polynomial:\r\n",
        "\r\n",
        "  def __init__(self, list = []):\r\n",
        "    self.list = list\r\n",
        "\r\n",
        "  def __str__(self):\r\n",
        "    s = \"\"\r\n",
        "    i = len(self.list)-1\r\n",
        "    while i>=0:\r\n",
        "      if i!=0:\r\n",
        "        if self.list[i-1]<0:\r\n",
        "          s+=str(self.list[i])+\"x^\"+str(i)\r\n",
        "        if self.list[i-1] == 0:\r\n",
        "          s+=str(self.list[i])+\"x^\"+str(i)\r\n",
        "        if self.list[i-1] != 0 and self.list[i-1]>0:\r\n",
        "          if self.list[i] == 1:\r\n",
        "            s+=str(\"x^\"+str(i)+\"+\")\r\n",
        "          if self.list[i]!=0 and self.list[i]!=1:\r\n",
        "            s+=str(self.list[i])+\"x^\"+str(i)+\"+\"\r\n",
        "      else:\r\n",
        "        if self.list[i]!=0:\r\n",
        "          s+=str(self.list[i])\r\n",
        "      i = i-1\r\n",
        "    return s\r\n",
        "\r\n",
        "  def __add__(self, other):\r\n",
        "    s=[]\r\n",
        "    if len(other.list)>len(self.list):\r\n",
        "      i = len(other.list)-1\r\n",
        "      while i > len(self.list):\r\n",
        "        s.append(other.list[i])\r\n",
        "        i = i-1\r\n",
        "      n = len(self.list)-1\r\n",
        "      while n  > -1:\r\n",
        "        s.append(self.list[i]+other.list[i]);\r\n",
        "        i = i-1\r\n",
        "    if len(other.list)<len(self.list):\r\n",
        "      i = len(self.list)-1\r\n",
        "      while i > len(other.list)-1:\r\n",
        "        s.append(self.list[i])\r\n",
        "        i = i-1\r\n",
        "      n = len(other.list)-1\r\n",
        "      while n  > -1:\r\n",
        "        s.append(self.list[i]+other.list[i]);\r\n",
        "        i = i-1\r\n",
        "    if len(other.list)==len(self.list):\r\n",
        "      i = len(other.list)-1\r\n",
        "      while i  > -1:\r\n",
        "        s.append(self.list[i]+other.list[i]);\r\n",
        "        i = i-1\r\n",
        "    s.reverse()\r\n",
        "    p = Polynomial(s)\r\n",
        "    return p\r\n",
        "        \r\n",
        "\r\n",
        "\r\n",
        "  def __sub__(self, other):\r\n",
        "    s=[]\r\n",
        "    if len(other.list)>len(self.list):\r\n",
        "      i = len(other.list)-1\r\n",
        "      while i > len(self.list):\r\n",
        "        s.append(other.list[i])\r\n",
        "        i = i-1\r\n",
        "      n = len(self.list)-1\r\n",
        "      while n  > -1:\r\n",
        "        s.append(self.list[i]-other.list[i]);\r\n",
        "        i = i-1\r\n",
        "    if len(other.list)<len(self.list):\r\n",
        "      i = len(self.list)-1\r\n",
        "      while i > len(other.list)-1:\r\n",
        "        s.append(self.list[i])\r\n",
        "        i = i-1\r\n",
        "      n = len(other.list)-1\r\n",
        "      while n  > -1:\r\n",
        "        s.append(self.list[i]-other.list[i]);\r\n",
        "        i = i-1\r\n",
        "    if len(other.list)==len(self.list):\r\n",
        "      i = len(other.list)-1\r\n",
        "      while i  > -1:\r\n",
        "        s.append(self.list[i]-other.list[i]);\r\n",
        "        i = i-1\r\n",
        "    s.reverse()\r\n",
        "    p = Polynomial(s)\r\n",
        "    return p\r\n",
        "    \r\n",
        "\r\n",
        "  def diff(self):\r\n",
        "    i = 0\r\n",
        "    res = []\r\n",
        "    while (i < len(self.list)-1):\r\n",
        "      res.append(self.list[i+1]*(i+1))\r\n",
        "      i+=1\r\n",
        "    return Polynomial(res)\r\n",
        "    \r\n",
        "\r\n",
        "  def evalf(self,x):\r\n",
        "    i = len(self.list)-1\r\n",
        "    res = 0\r\n",
        "    while i>=0:\r\n",
        "      res+= self.list[i]*(x**i)\r\n",
        "      i=i-1\r\n",
        "    return res\r\n",
        "    \r\n",
        "\r\n",
        "  def toLatex(self):\r\n",
        "    display(Math(str(self)))\r\n",
        "\r\n",
        "  def build(self,a,b):\r\n",
        "    x = []\r\n",
        "    y = []\r\n",
        "    while(a<b):\r\n",
        "      x.append(a)\r\n",
        "      y.append(self.evalf(a))\r\n",
        "      a+=0.5\r\n",
        "    plt.plot(x,y)\r\n",
        "  \r\n",
        "def check(var):\r\n",
        "  return self\r\n",
        "  \r\n"
      ],
      "execution_count": null,
      "outputs": []
    },
    {
      "cell_type": "code",
      "metadata": {
        "id": "vXkSzChXHwac",
        "colab": {
          "base_uri": "https://localhost:8080/",
          "height": 388
        },
        "outputId": "e1a2197f-71a5-4489-805e-6f6caf72022a"
      },
      "source": [
        "p1 = Polynomial([5,3,4])\r\n",
        "p2 = Polynomial([5,6,8])\r\n",
        "print(str(p1))\r\n",
        "print(str(p2))\r\n",
        "print(\"+: \"+str(p1+p2))\r\n",
        "print(\"-: \"+str(p1-p2))\r\n",
        "print(\"evalf p1 x=2: \"+str(p1.evalf(2)))\r\n",
        "print(\"diff p1: \"+str(p1.diff()))\r\n",
        "p1.toLatex()\r\n",
        "p1.build(-10,10)"
      ],
      "execution_count": null,
      "outputs": [
        {
          "output_type": "stream",
          "text": [
            "4x^2+3x^1+5\n",
            "8x^2+6x^1+5\n",
            "+: 12x^2+9x^1+10\n",
            "-: -4x^2-3x^1\n",
            "evalf p1 x=2: 27\n",
            "diff p1: 8x^1+3\n"
          ],
          "name": "stdout"
        },
        {
          "output_type": "display_data",
          "data": {
            "text/latex": "$$4x^2+3x^1+5$$",
            "text/plain": [
              "<IPython.core.display.Math object>"
            ]
          },
          "metadata": {
            "tags": []
          }
        },
        {
          "output_type": "display_data",
          "data": {
            "image/png": "[encoded data removed]",
            "text/plain": [
              "<Figure size 432x288 with 1 Axes>"
            ]
          },
          "metadata": {
            "tags": [],
            "needs_background": "light"
          }
        }
      ]
    }
  ]
}