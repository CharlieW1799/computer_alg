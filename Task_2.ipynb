{
  "nbformat": 4,
  "nbformat_minor": 0,
  "metadata": {
    "colab": {
      "name": "Untitled1.ipynb",
      "provenance": [],
      "include_colab_link": true
    },
    "kernelspec": {
      "name": "python3",
      "display_name": "Python 3"
    }
  },
  "cells": [
    {
      "cell_type": "markdown",
      "metadata": {
        "id": "view-in-github",
        "colab_type": "text"
      },
      "source": [
        "<a href=\"https://colab.research.google.com/github/redars/computer_alg/blob/main/Task_2.ipynb\" target=\"_parent\"><img src=\"https://colab.research.google.com/assets/colab-badge.svg\" alt=\"Open In Colab\"/></a>"
      ]
    },
    {
      "cell_type": "code",
      "metadata": {
        "id": "yugqtJMkDch7"
      },
      "source": [
        "class Polynomial:\r\n",
        "\r\n",
        "  def __init__(self, *list):\r\n",
        "    self.list = list\r\n",
        "\r\n",
        "  def __str__(self):\r\n",
        "    s = \"\"\r\n",
        "    i = len(self.list)-1\r\n",
        "    while i>=0:\r\n",
        "      if i!=0:\r\n",
        "        s+=str(self.list[i])+\"x^\"+str(i)+\"+\"\r\n",
        "      else:\r\n",
        "        s+=str(self.list[i])\r\n",
        "      i = i-1\r\n",
        "    return s\r\n",
        "\r\n",
        "  def __add__(self, other):\r\n",
        "    s=[]\r\n",
        "    if len(other.list)>=len(self.list):\r\n",
        "      i = len(other.list)-1\r\n",
        "      while i > len(self.list):\r\n",
        "        s.append(other.list[i])\r\n",
        "        i = i-1\r\n",
        "      n = len(self.list)-1\r\n",
        "      while n  > -1:\r\n",
        "        s.append(self.list[i]+other.list[i]);\r\n",
        "        i = i-1\r\n",
        "    else:\r\n",
        "      i = len(self.list)-1\r\n",
        "      while i > len(other.list)-1:\r\n",
        "        s.append(self.list[i])\r\n",
        "        i = i-1\r\n",
        "      n = len(other.list)-1\r\n",
        "      while n  > -1:\r\n",
        "        s.append(self.list[i]+other.list[i]);\r\n",
        "        i = i-1\r\n",
        "    return p\r\n",
        "        \r\n",
        "\r\n",
        "\r\n",
        "  def __sub__(self, other):\r\n",
        "    return self\r\n",
        "    \r\n",
        "  def __truediv__(self, other):\r\n",
        "    return self\r\n",
        "\r\n",
        "  def __pow__(self,other):\r\n",
        "    return self\r\n",
        "    \r\n",
        "  \r\n",
        "  def __iadd__(self, other):\r\n",
        "    return self\r\n",
        "    \r\n",
        "  def __isub__(self, other):\r\n",
        "    return self\r\n",
        "    \r\n",
        "    \r\n",
        "  def __imul__(self, other):\r\n",
        "    return self\r\n",
        "    \r\n",
        "  def __idiv__(self, other):\r\n",
        "    return self\r\n",
        "    \r\n",
        "\r\n",
        "  def evalf(self):\r\n",
        "    return self\r\n",
        "    \r\n",
        "\r\n",
        "  def toLatex(self):\r\n",
        "    return self\r\n",
        "    \r\n",
        "\r\n",
        "def check(var):\r\n",
        "  return self\r\n",
        "  \r\n"
      ],
      "execution_count": 80,
      "outputs": []
    },
    {
      "cell_type": "code",
      "metadata": {
        "id": "vXkSzChXHwac",
        "colab": {
          "base_uri": "https://localhost:8080/",
          "height": 330
        },
        "outputId": "2171ced7-273b-4d1a-aaf4-49c852cf1767"
      },
      "source": [
        "p1 = Polynomial(5,3,4)\r\n",
        "p2 = Polynomial(4,6,2)\r\n",
        "print(str(p1))\r\n",
        "print(str(p1+p2))\r\n"
      ],
      "execution_count": 81,
      "outputs": [
        {
          "output_type": "stream",
          "text": [
            "4x^2+3x^1+5\n"
          ],
          "name": "stdout"
        },
        {
          "output_type": "error",
          "ename": "IndexError",
          "evalue": "ignored",
          "traceback": [
            "\u001b[0;31m---------------------------------------------------------------------------\u001b[0m",
            "\u001b[0;31mIndexError\u001b[0m                                Traceback (most recent call last)",
            "\u001b[0;32m<ipython-input-81-5a8eb1c7b898>\u001b[0m in \u001b[0;36m<module>\u001b[0;34m()\u001b[0m\n\u001b[1;32m      2\u001b[0m \u001b[0mp2\u001b[0m \u001b[0;34m=\u001b[0m \u001b[0mPolynomial\u001b[0m\u001b[0;34m(\u001b[0m\u001b[0;36m4\u001b[0m\u001b[0;34m,\u001b[0m\u001b[0;36m6\u001b[0m\u001b[0;34m,\u001b[0m\u001b[0;36m2\u001b[0m\u001b[0;34m)\u001b[0m\u001b[0;34m\u001b[0m\u001b[0;34m\u001b[0m\u001b[0m\n\u001b[1;32m      3\u001b[0m \u001b[0mprint\u001b[0m\u001b[0;34m(\u001b[0m\u001b[0mstr\u001b[0m\u001b[0;34m(\u001b[0m\u001b[0mp1\u001b[0m\u001b[0;34m)\u001b[0m\u001b[0;34m)\u001b[0m\u001b[0;34m\u001b[0m\u001b[0;34m\u001b[0m\u001b[0m\n\u001b[0;32m----> 4\u001b[0;31m \u001b[0mprint\u001b[0m\u001b[0;34m(\u001b[0m\u001b[0mstr\u001b[0m\u001b[0;34m(\u001b[0m\u001b[0mp1\u001b[0m\u001b[0;34m+\u001b[0m\u001b[0mp2\u001b[0m\u001b[0;34m)\u001b[0m\u001b[0;34m)\u001b[0m\u001b[0;34m\u001b[0m\u001b[0;34m\u001b[0m\u001b[0m\n\u001b[0m",
            "\u001b[0;32m<ipython-input-80-c30cccb3a5d6>\u001b[0m in \u001b[0;36m__add__\u001b[0;34m(self, other)\u001b[0m\n\u001b[1;32m     24\u001b[0m       \u001b[0mn\u001b[0m \u001b[0;34m=\u001b[0m \u001b[0mlen\u001b[0m\u001b[0;34m(\u001b[0m\u001b[0mself\u001b[0m\u001b[0;34m.\u001b[0m\u001b[0mlist\u001b[0m\u001b[0;34m)\u001b[0m\u001b[0;34m-\u001b[0m\u001b[0;36m1\u001b[0m\u001b[0;34m\u001b[0m\u001b[0;34m\u001b[0m\u001b[0m\n\u001b[1;32m     25\u001b[0m       \u001b[0;32mwhile\u001b[0m \u001b[0mn\u001b[0m  \u001b[0;34m>\u001b[0m \u001b[0;34m-\u001b[0m\u001b[0;36m1\u001b[0m\u001b[0;34m:\u001b[0m\u001b[0;34m\u001b[0m\u001b[0;34m\u001b[0m\u001b[0m\n\u001b[0;32m---> 26\u001b[0;31m         \u001b[0ms\u001b[0m\u001b[0;34m.\u001b[0m\u001b[0mappend\u001b[0m\u001b[0;34m(\u001b[0m\u001b[0mself\u001b[0m\u001b[0;34m.\u001b[0m\u001b[0mlist\u001b[0m\u001b[0;34m[\u001b[0m\u001b[0mi\u001b[0m\u001b[0;34m]\u001b[0m\u001b[0;34m+\u001b[0m\u001b[0mother\u001b[0m\u001b[0;34m.\u001b[0m\u001b[0mlist\u001b[0m\u001b[0;34m[\u001b[0m\u001b[0mi\u001b[0m\u001b[0;34m]\u001b[0m\u001b[0;34m)\u001b[0m\u001b[0;34m;\u001b[0m\u001b[0;34m\u001b[0m\u001b[0;34m\u001b[0m\u001b[0m\n\u001b[0m\u001b[1;32m     27\u001b[0m         \u001b[0mi\u001b[0m \u001b[0;34m=\u001b[0m \u001b[0mi\u001b[0m\u001b[0;34m-\u001b[0m\u001b[0;36m1\u001b[0m\u001b[0;34m\u001b[0m\u001b[0;34m\u001b[0m\u001b[0m\n\u001b[1;32m     28\u001b[0m     \u001b[0;32melse\u001b[0m\u001b[0;34m:\u001b[0m\u001b[0;34m\u001b[0m\u001b[0;34m\u001b[0m\u001b[0m\n",
            "\u001b[0;31mIndexError\u001b[0m: tuple index out of range"
          ]
        }
      ]
    }
  ]
}