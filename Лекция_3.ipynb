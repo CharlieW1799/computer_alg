{
  "nbformat": 4,
  "nbformat_minor": 0,
  "metadata": {
    "colab": {
      "name": "Лекция 3.ipynb",
      "provenance": [],
      "include_colab_link": true
    },
    "kernelspec": {
      "name": "python3",
      "display_name": "Python 3"
    }
  },
  "cells": [
    {
      "cell_type": "markdown",
      "metadata": {
        "id": "view-in-github",
        "colab_type": "text"
      },
      "source": [
        "<a href=\"https://colab.research.google.com/github/redars/computer_alg/blob/main/%D0%9B%D0%B5%D0%BA%D1%86%D0%B8%D1%8F_3.ipynb\" target=\"_parent\"><img src=\"https://colab.research.google.com/assets/colab-badge.svg\" alt=\"Open In Colab\"/></a>"
      ]
    },
    {
      "cell_type": "code",
      "metadata": {
        "id": "hOG79QDVrNzN"
      },
      "source": [
        "x = 'x'\r\n",
        "y = 'y'"
      ],
      "execution_count": null,
      "outputs": []
    },
    {
      "cell_type": "code",
      "metadata": {
        "colab": {
          "base_uri": "https://localhost:8080/",
          "height": 35
        },
        "id": "HPUuIy-bs0TT",
        "outputId": "f909bf84-247e-4986-a79d-0fa472837cf0"
      },
      "source": [
        "x"
      ],
      "execution_count": null,
      "outputs": [
        {
          "output_type": "execute_result",
          "data": {
            "application/vnd.google.colaboratory.intrinsic+json": {
              "type": "string"
            },
            "text/plain": [
              "'x'"
            ]
          },
          "metadata": {
            "tags": []
          },
          "execution_count": 2
        }
      ]
    },
    {
      "cell_type": "code",
      "metadata": {
        "colab": {
          "base_uri": "https://localhost:8080/"
        },
        "id": "moW7Kq80s36H",
        "outputId": "c0a9962f-2fb9-4b40-e913-581f78ec91b8"
      },
      "source": [
        "def fsqrt(x):\r\n",
        "  return ['sqrt', x]\r\n",
        "\r\n",
        "fsqrt(x)"
      ],
      "execution_count": null,
      "outputs": [
        {
          "output_type": "execute_result",
          "data": {
            "text/plain": [
              "['sqrt', 'x']"
            ]
          },
          "metadata": {
            "tags": []
          },
          "execution_count": 3
        }
      ]
    },
    {
      "cell_type": "code",
      "metadata": {
        "colab": {
          "base_uri": "https://localhost:8080/"
        },
        "id": "zn6GASaQtnCn",
        "outputId": "88de00d5-886a-4c0f-84ef-941b12f55226"
      },
      "source": [
        "def fsin(x):\r\n",
        "  return ['sin', x]\r\n",
        "\r\n",
        "def fcos(x):\r\n",
        "  return ['cos', x]\r\n",
        "\r\n",
        "fcos(fsin(fsqrt(x)))"
      ],
      "execution_count": null,
      "outputs": [
        {
          "output_type": "execute_result",
          "data": {
            "text/plain": [
              "['cos', ['sin', ['sqrt', 'x']]]"
            ]
          },
          "metadata": {
            "tags": []
          },
          "execution_count": 4
        }
      ]
    },
    {
      "cell_type": "code",
      "metadata": {
        "colab": {
          "base_uri": "https://localhost:8080/"
        },
        "id": "ONb46ovet5ua",
        "outputId": "4d7fb244-1e9e-48fd-b0eb-81fcfb3d7e9e"
      },
      "source": [
        "def add(x, y):\r\n",
        "  return ['+', x, y]\r\n",
        "\r\n",
        "def mul(x, y):\r\n",
        "  return ['*', x, y]\r\n",
        "\r\n",
        "z = add(x, mul(2, fsin(y)))\r\n",
        "z"
      ],
      "execution_count": null,
      "outputs": [
        {
          "output_type": "execute_result",
          "data": {
            "text/plain": [
              "['+', 'x', ['*', 2, ['sin', 'y']]]"
            ]
          },
          "metadata": {
            "tags": []
          },
          "execution_count": 5
        }
      ]
    },
    {
      "cell_type": "code",
      "metadata": {
        "id": "ScEmgQIvu5kn"
      },
      "source": [
        "def check(x):\r\n",
        "  if isinstance(x, Expression):\r\n",
        "    return x\r\n",
        "  return Expression(x)\r\n",
        "\r\n",
        "class Expression:\r\n",
        "  def __init__(self, f):\r\n",
        "    self.f = f\r\n",
        "  def __add__(self, x):\r\n",
        "    x = check(x)\r\n",
        "    return Expression(add(self.f, x.f))\r\n",
        "  def __mul__(self, x):\r\n",
        "    x = check(x)\r\n",
        "    return Expression(mul(self.f, x.f))\r\n",
        "  def __radd__(self, x):\r\n",
        "    x = check(x)\r\n",
        "    return Expression(add(x.f, self.f))\r\n",
        "  def __rmul__(self, x):\r\n",
        "    x = check(x)\r\n",
        "    return Expression(mul(x.f, self.f))\r\n",
        "  def subs(self, var, val):\r\n",
        "    return Expression(substitute(self.f, var, val))\r\n",
        "  def evalf(self):\r\n",
        "    return evaluate(self.f)\r\n",
        "  "
      ],
      "execution_count": null,
      "outputs": []
    },
    {
      "cell_type": "code",
      "metadata": {
        "colab": {
          "base_uri": "https://localhost:8080/"
        },
        "id": "zuhxqthIvqW1",
        "outputId": "0764c07b-3cab-4729-8f29-02dfb36aec5d"
      },
      "source": [
        "x = Expression('x')\r\n",
        "y = Expression('y')\r\n",
        "\r\n",
        "print(x.f, y.f)"
      ],
      "execution_count": null,
      "outputs": [
        {
          "output_type": "stream",
          "text": [
            "x y\n"
          ],
          "name": "stdout"
        }
      ]
    },
    {
      "cell_type": "code",
      "metadata": {
        "colab": {
          "base_uri": "https://localhost:8080/"
        },
        "id": "mLEUgLm4xEPs",
        "outputId": "5a653187-c1d7-421f-9ff1-0e72174dd457"
      },
      "source": [
        "z = (x + y) * x\r\n",
        "z.f"
      ],
      "execution_count": null,
      "outputs": [
        {
          "output_type": "execute_result",
          "data": {
            "text/plain": [
              "['*', ['+', 'x', 'y'], 'x']"
            ]
          },
          "metadata": {
            "tags": []
          },
          "execution_count": 8
        }
      ]
    },
    {
      "cell_type": "code",
      "metadata": {
        "colab": {
          "base_uri": "https://localhost:8080/"
        },
        "id": "27Pb_G_xx1d9",
        "outputId": "8573516b-d4d5-4a25-a851-af9e0a42131a"
      },
      "source": [
        "(x + 1).f # x.__add__(1)"
      ],
      "execution_count": null,
      "outputs": [
        {
          "output_type": "execute_result",
          "data": {
            "text/plain": [
              "['+', 'x', 1]"
            ]
          },
          "metadata": {
            "tags": []
          },
          "execution_count": 9
        }
      ]
    },
    {
      "cell_type": "code",
      "metadata": {
        "colab": {
          "base_uri": "https://localhost:8080/"
        },
        "id": "d4lWmwMoytHI",
        "outputId": "871c100b-e3ca-4ace-c826-38efb5be5343"
      },
      "source": [
        "(1 + x).f # 1.__add__(x)"
      ],
      "execution_count": null,
      "outputs": [
        {
          "output_type": "execute_result",
          "data": {
            "text/plain": [
              "['+', 1, 'x']"
            ]
          },
          "metadata": {
            "tags": []
          },
          "execution_count": 10
        }
      ]
    },
    {
      "cell_type": "code",
      "metadata": {
        "colab": {
          "base_uri": "https://localhost:8080/"
        },
        "id": "FMMeA_ApzoQ5",
        "outputId": "8dfd4737-a905-4cfc-8c09-b756668fa88f"
      },
      "source": [
        "z = x + y\r\n",
        "print(z.f)\r\n",
        "z *= 2 \r\n",
        "print(z.f) "
      ],
      "execution_count": null,
      "outputs": [
        {
          "output_type": "stream",
          "text": [
            "['+', 'x', 'y']\n",
            "['*', ['+', 'x', 'y'], 2]\n"
          ],
          "name": "stdout"
        }
      ]
    },
    {
      "cell_type": "code",
      "metadata": {
        "id": "AiEkED_h0ekb"
      },
      "source": [
        "def sqrt(x):\r\n",
        "  x = check(x)\r\n",
        "  t = x.f\r\n",
        "  r = fsqrt(t)\r\n",
        "  return Expression(r)\r\n",
        "\r\n",
        "def sin(x):\r\n",
        "  return Expression(fsin(check(x).f))\r\n",
        "\r\n",
        "def cos(x):\r\n",
        "  return Expression(fcos(check(x).f))\r\n",
        "\r\n"
      ],
      "execution_count": null,
      "outputs": []
    },
    {
      "cell_type": "code",
      "metadata": {
        "colab": {
          "base_uri": "https://localhost:8080/"
        },
        "id": "3TmQ3d3q1ZKx",
        "outputId": "dc04c139-1c0d-43c5-f394-685b077d65ca"
      },
      "source": [
        "x = Expression('x')\r\n",
        "y = Expression('y')\r\n",
        "z = x + 2 * sin(y)\r\n",
        "z.f"
      ],
      "execution_count": null,
      "outputs": [
        {
          "output_type": "execute_result",
          "data": {
            "text/plain": [
              "['+', 'x', ['*', 2, ['sin', 'y']]]"
            ]
          },
          "metadata": {
            "tags": []
          },
          "execution_count": 13
        }
      ]
    },
    {
      "cell_type": "code",
      "metadata": {
        "colab": {
          "base_uri": "https://localhost:8080/"
        },
        "id": "Pu_q-3jQ188A",
        "outputId": "c57f12f9-4302-443a-980f-6a139207fa59"
      },
      "source": [
        "def substitute(f, var, val):\r\n",
        "  val = check(val).f\r\n",
        "  if f == var:\r\n",
        "    return val\r\n",
        "  elif isinstance(f, list):\r\n",
        "    y = [f[0]]\r\n",
        "    for i in range(1, len(f)):\r\n",
        "      t = substitute(f[i], var, val)\r\n",
        "      y.append(t)\r\n",
        "    return y\r\n",
        "  else:\r\n",
        "    return f\r\n",
        "\r\n",
        "z = x + 2 * x\r\n",
        "print(z.f)\r\n",
        "\r\n",
        "t = substitute(z.f, 'x', 3)\r\n",
        "print(t)"
      ],
      "execution_count": null,
      "outputs": [
        {
          "output_type": "stream",
          "text": [
            "['+', 'x', ['*', 2, 'x']]\n",
            "['+', 3, ['*', 2, 3]]\n"
          ],
          "name": "stdout"
        }
      ]
    },
    {
      "cell_type": "code",
      "metadata": {
        "colab": {
          "base_uri": "https://localhost:8080/"
        },
        "id": "McPT4w095H13",
        "outputId": "81812faf-3cfb-4a0f-b690-566c379851a2"
      },
      "source": [
        "z.subs('x', 3).f"
      ],
      "execution_count": null,
      "outputs": [
        {
          "output_type": "execute_result",
          "data": {
            "text/plain": [
              "['+', 3, ['*', 2, 3]]"
            ]
          },
          "metadata": {
            "tags": []
          },
          "execution_count": 15
        }
      ]
    },
    {
      "cell_type": "code",
      "metadata": {
        "id": "F8nvZMxr5dHA"
      },
      "source": [
        "import math\r\n",
        "\r\n",
        "def evaluate(f):\r\n",
        "  if isinstance(f, (int, float)):\r\n",
        "    return f\r\n",
        "  elif isinstance(f, list):\r\n",
        "    if f[0] == \"+\": \r\n",
        "      return evaluate(f[1]) + evaluate(f[2])\r\n",
        "    elif f[0] == \"*\":\r\n",
        "      return evaluate(f[1]) * evaluate(f[2])\r\n",
        "    elif f[0] == \"sqrt\":\r\n",
        "      return math.sqrt(evaluate(f[1]))\r\n",
        "    elif f[0] == \"sin\":\r\n",
        "      return math.sin(evaluate(f[1]))\r\n",
        "    elif f[0] == \"cos\":\r\n",
        "      return math.cos(evaluate(f[1]))\r\n",
        "  return None\r\n",
        "  "
      ],
      "execution_count": null,
      "outputs": []
    },
    {
      "cell_type": "code",
      "metadata": {
        "colab": {
          "base_uri": "https://localhost:8080/"
        },
        "id": "HrYhYK0M7AYs",
        "outputId": "0a914fff-72ac-4871-fcb3-7e0c03228504"
      },
      "source": [
        "z = sqrt(2) + sqrt(3)\r\n",
        "print(z.f)\r\n",
        "z.evalf()"
      ],
      "execution_count": null,
      "outputs": [
        {
          "output_type": "stream",
          "text": [
            "['+', ['sqrt', 2], ['sqrt', 3]]\n"
          ],
          "name": "stdout"
        },
        {
          "output_type": "execute_result",
          "data": {
            "text/plain": [
              "3.1462643699419726"
            ]
          },
          "metadata": {
            "tags": []
          },
          "execution_count": 17
        }
      ]
    },
    {
      "cell_type": "code",
      "metadata": {
        "colab": {
          "base_uri": "https://localhost:8080/"
        },
        "id": "Q880CDLr8MA8",
        "outputId": "9a4fea8b-fc4e-40e8-ffa2-0b4b5bf2dec9"
      },
      "source": [
        "z = x + 1\r\n",
        "z.subs('x', 9).evalf()"
      ],
      "execution_count": null,
      "outputs": [
        {
          "output_type": "execute_result",
          "data": {
            "text/plain": [
              "10"
            ]
          },
          "metadata": {
            "tags": []
          },
          "execution_count": 18
        }
      ]
    },
    {
      "cell_type": "code",
      "metadata": {
        "id": "Sin0ZOti8cfQ"
      },
      "source": [
        "import matplotlib\r\n",
        "import matplotlib.pyplot as plt\r\n",
        "\r\n",
        "def plot(expr, var, a, b, n):\r\n",
        "  dx = (b - a) / n\r\n",
        "  X, Y = [], []\r\n",
        "  for i in range(n + 1):\r\n",
        "    x = a + dx * i\r\n",
        "    y = expr.subs(var, x).evalf()\r\n",
        "    X.append(x)\r\n",
        "    Y.append(y)\r\n",
        "\r\n",
        "  fig, ax = plt.subplots(figsize=(12, 9))\r\n",
        "  ax.plot(X, Y, color=\"red\", lw=5)\r\n",
        "  plt.show()\r\n"
      ],
      "execution_count": null,
      "outputs": []
    },
    {
      "cell_type": "code",
      "metadata": {
        "colab": {
          "base_uri": "https://localhost:8080/",
          "height": 558
        },
        "id": "BqjpDqYB9Z55",
        "outputId": "75d2f7ee-e1b0-4e0c-ff3a-9f086c243ab9"
      },
      "source": [
        "y = sin(x) * x\r\n",
        "print(y.f)\r\n",
        "plot(y, 'x', -20, 20, 500)"
      ],
      "execution_count": null,
      "outputs": [
        {
          "output_type": "stream",
          "text": [
            "['*', ['sin', 'x'], 'x']\n"
          ],
          "name": "stdout"
        },
        {
          "output_type": "display_data",
          "data": {
            "image/png": "[encoded data removed]",
            "text/plain": [
              "<Figure size 864x648 with 1 Axes>"
            ]
          },
          "metadata": {
            "tags": [],
            "needs_background": "light"
          }
        }
      ]
    }
  ]
}