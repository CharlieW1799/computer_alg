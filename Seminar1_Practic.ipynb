{
  "nbformat": 4,
  "nbformat_minor": 0,
  "metadata": {
    "colab": {
      "name": "Untitled1.ipynb",
      "provenance": [],
      "authorship_tag": "ABX9TyObHwRw2zeRYKpN9bTLq3d8",
      "include_colab_link": true
    },
    "kernelspec": {
      "name": "python3",
      "display_name": "Python 3"
    }
  },
  "cells": [
    {
      "cell_type": "markdown",
      "metadata": {
        "id": "view-in-github",
        "colab_type": "text"
      },
      "source": [
        "<a href=\"https://colab.research.google.com/github/redars/computer_alg/blob/main/Seminar1_Practic.ipynb\" target=\"_parent\"><img src=\"https://colab.research.google.com/assets/colab-badge.svg\" alt=\"Open In Colab\"/></a>"
      ]
    },
    {
      "cell_type": "code",
      "metadata": {
        "id": "yugqtJMkDch7"
      },
      "source": [
        "class Rational:\r\n",
        "  def __init__(self, numerator,denumerator = 1):\r\n",
        "    self.numerator = numerator\r\n",
        "    self.denumerator = denumerator\r\n",
        "\r\n",
        "  def __str__(self):\r\n",
        "    return '({}, {})'.format(self.x, self.y)\r\n",
        "\r\n",
        "  def normalize(self):\r\n",
        "    if(self.denumerator<0):\r\n",
        "      self.denumerator = self.denumerator*-1\r\n",
        "    self.numerator = self.numerator+self.denumerator\r\n",
        "    self.denumerator = self.numerator - self.denumerator\r\n",
        "    self.numerator = self.numerator - self.denumerator\r\n",
        "\r\n",
        "  def __add__(self, other):\r\n",
        "    return Rational(self.numerator*other.denumerator+other.numerator*self.denumerator,self.denumerator * other.denumerator)\r\n",
        "\r\n",
        "  def __sub__(self, other):\r\n",
        "    return Rational(self.numerator*other.denumerator-other.numerator*self.denumerator,self.denumerator * other.denumerator)\r\n",
        "\r\n",
        "  def __mul__(self, other):\r\n",
        "    return Rational(self.numerator*other.numerator,self.denumerator * other.denumerator)\r\n",
        "\r\n",
        "  def __truediv__(self,other):\r\n",
        "    return  Rational(self.numerator*other.denumerator,self.denumerator * other.numerator)\r\n",
        "\r\n",
        "  def __pow__(self,other):\r\n",
        "    return Rational(self.numerator**other,self.denumerator**other)\r\n",
        "    "
      ],
      "execution_count": 1,
      "outputs": []
    },
    {
      "cell_type": "code",
      "metadata": {
        "id": "vXkSzChXHwac"
      },
      "source": [
        ""
      ],
      "execution_count": null,
      "outputs": []
    }
  ]
}