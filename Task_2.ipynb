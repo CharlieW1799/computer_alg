{
  "nbformat": 4,
  "nbformat_minor": 0,
  "metadata": {
    "colab": {
      "name": "Untitled1.ipynb",
      "provenance": [],
      "include_colab_link": true
    },
    "kernelspec": {
      "name": "python3",
      "display_name": "Python 3"
    }
  },
  "cells": [
    {
      "cell_type": "markdown",
      "metadata": {
        "id": "view-in-github",
        "colab_type": "text"
      },
      "source": [
        "<a href=\"https://colab.research.google.com/github/redars/computer_alg/blob/main/Task_2.ipynb\" target=\"_parent\"><img src=\"https://colab.research.google.com/assets/colab-badge.svg\" alt=\"Open In Colab\"/></a>"
      ]
    },
    {
      "cell_type": "code",
      "metadata": {
        "id": "yugqtJMkDch7"
      },
      "source": [
        "class Polynomial:\r\n",
        "\r\n",
        "  def __init__(self, list = []):\r\n",
        "    self.list = list\r\n",
        "\r\n",
        "  def __str__(self):\r\n",
        "    s = \"\"\r\n",
        "    i = len(self.list)-1\r\n",
        "    while i>=0:\r\n",
        "      if i!=0:\r\n",
        "        s+=str(self.list[i])+\"x^\"+str(i)+\"+\"\r\n",
        "      else:\r\n",
        "        s+=str(self.list[i])\r\n",
        "      i = i-1\r\n",
        "    return s\r\n",
        "\r\n",
        "  def __add__(self, other):\r\n",
        "    s=[]\r\n",
        "    if len(other.list)>len(self.list):\r\n",
        "      i = len(other.list)-1\r\n",
        "      while i > len(self.list):\r\n",
        "        s.append(other.list[i])\r\n",
        "        i = i-1\r\n",
        "      n = len(self.list)-1\r\n",
        "      while n  > -1:\r\n",
        "        s.append(self.list[i]+other.list[i]);\r\n",
        "        i = i-1\r\n",
        "    if len(other.list)<len(self.list):\r\n",
        "      i = len(self.list)-1\r\n",
        "      while i > len(other.list)-1:\r\n",
        "        s.append(self.list[i])\r\n",
        "        i = i-1\r\n",
        "      n = len(other.list)-1\r\n",
        "      while n  > -1:\r\n",
        "        s.append(self.list[i]+other.list[i]);\r\n",
        "        i = i-1\r\n",
        "    if len(other.list)==len(self.list):\r\n",
        "      i = len(other.list)-1\r\n",
        "      while i  > -1:\r\n",
        "        s.append(self.list[i]+other.list[i]);\r\n",
        "        i = i-1\r\n",
        "    s.reverse()\r\n",
        "    p = Polynomial(s)\r\n",
        "    return p\r\n",
        "        \r\n",
        "\r\n",
        "\r\n",
        "  def __sub__(self, other):\r\n",
        "    s=[]\r\n",
        "    if len(other.list)>len(self.list):\r\n",
        "      i = len(other.list)-1\r\n",
        "      while i > len(self.list):\r\n",
        "        s.append(other.list[i])\r\n",
        "        i = i-1\r\n",
        "      n = len(self.list)-1\r\n",
        "      while n  > -1:\r\n",
        "        s.append(self.list[i]-other.list[i]);\r\n",
        "        i = i-1\r\n",
        "    if len(other.list)<len(self.list):\r\n",
        "      i = len(self.list)-1\r\n",
        "      while i > len(other.list)-1:\r\n",
        "        s.append(self.list[i])\r\n",
        "        i = i-1\r\n",
        "      n = len(other.list)-1\r\n",
        "      while n  > -1:\r\n",
        "        s.append(self.list[i]-other.list[i]);\r\n",
        "        i = i-1\r\n",
        "    if len(other.list)==len(self.list):\r\n",
        "      i = len(other.list)-1\r\n",
        "      while i  > -1:\r\n",
        "        s.append(self.list[i]-other.list[i]);\r\n",
        "        i = i-1\r\n",
        "    s.reverse()\r\n",
        "    p = Polynomial(s)\r\n",
        "    return p\r\n",
        "    \r\n",
        "  def __mul__(self, other):\r\n",
        "    pol1 = self.list\r\n",
        "    pol2 = other.list\r\n",
        "    i = 0\r\n",
        "    while i <\r\n",
        "\r\n",
        "    return self\r\n",
        "  def __truediv__(self, other):\r\n",
        "    return self\r\n",
        "\r\n",
        "  def __pow__(self,other):\r\n",
        "    return self\r\n",
        "    \r\n",
        "  \r\n",
        "  def __iadd__(self, other):\r\n",
        "    return self\r\n",
        "    \r\n",
        "  def __isub__(self, other):\r\n",
        "    return self\r\n",
        "    \r\n",
        "    \r\n",
        "  def __imul__(self, other):\r\n",
        "    return self\r\n",
        "    \r\n",
        "  def __idiv__(self, other):\r\n",
        "    return self\r\n",
        "    \r\n",
        "\r\n",
        "  def evalf(self):\r\n",
        "    return self\r\n",
        "    \r\n",
        "\r\n",
        "  def toLatex(self):\r\n",
        "    return self\r\n",
        "    \r\n",
        "\r\n",
        "def check(var):\r\n",
        "  return self\r\n",
        "  \r\n"
      ],
      "execution_count": 56,
      "outputs": []
    },
    {
      "cell_type": "code",
      "metadata": {
        "id": "vXkSzChXHwac",
        "colab": {
          "base_uri": "https://localhost:8080/"
        },
        "outputId": "6926d01a-4aad-4590-958b-8dad6cdbb99c"
      },
      "source": [
        "p1 = Polynomial([5,3,4])\r\n",
        "p2 = Polynomial([4,6,2])\r\n",
        "print(str(p1))\r\n",
        "print(str(p2))\r\n",
        "print(\"+: \"+str(p1+p2))\r\n",
        "print(\"-: \"+str(p1-p2))\r\n"
      ],
      "execution_count": 57,
      "outputs": [
        {
          "output_type": "stream",
          "text": [
            "4x^2+3x^1+5\n",
            "2x^2+6x^1+4\n",
            "+: 6x^2+9x^1+9\n",
            "-: 2x^2+-3x^1+1\n"
          ],
          "name": "stdout"
        }
      ]
    }
  ]
}