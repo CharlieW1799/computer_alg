{
  "nbformat": 4,
  "nbformat_minor": 0,
  "metadata": {
    "colab": {
      "name": "Untitled2.ipynb",
      "provenance": [],
      "authorship_tag": "ABX9TyNm/bdvB02i30ur8dra7NVx",
      "include_colab_link": true
    },
    "kernelspec": {
      "name": "python3",
      "display_name": "Python 3"
    }
  },
  "cells": [
    {
      "cell_type": "markdown",
      "metadata": {
        "id": "view-in-github",
        "colab_type": "text"
      },
      "source": [
        "<a href=\"https://colab.research.google.com/github/redars/computer_alg/blob/main/Task_3.ipynb\" target=\"_parent\"><img src=\"https://colab.research.google.com/assets/colab-badge.svg\" alt=\"Open In Colab\"/></a>"
      ]
    },
    {
      "cell_type": "code",
      "metadata": {
        "id": "N0Dkaxe_KmyL"
      },
      "source": [
        "import math\r\n",
        "\r\n",
        "def check(x):\r\n",
        "  if isinstance(x, Expression):\r\n",
        "    return x\r\n",
        "  return Expression(x)\r\n",
        "\r\n",
        "def expr2latex(x):\r\n",
        "  if isinstance(x, (int, float)):\r\n",
        "    return str(x)\r\n",
        "  if isinstance(x, str):\r\n",
        "    return x\r\n",
        "  if isinstance(x, list):\r\n",
        "    if x[0] == \"**\":\r\n",
        "      return expr2latex(x[1]) + \"**\" + expr2latex(x[2])\r\n",
        "    if x[0] == \"+\":\r\n",
        "      return expr2latex(x[1]) + \"+\" + expr2latex(x[2])\r\n",
        "    if x[0] == \"-\":\r\n",
        "      return expr2latex(x[1]) + \"-\" + expr2latex(x[2])\r\n",
        "    if x[0] == \"*\":\r\n",
        "      left = expr2latex(x[1])\r\n",
        "      if isinstance(x[1], list) and x[1][0] == \"+\":\r\n",
        "        left = \"(\" + left + \")\"\r\n",
        "      right = expr2latex(x[2])\r\n",
        "      if isinstance(x[2], list) and x[2][0] == \"+\":\r\n",
        "        right = \"(\" + right + \")\"\r\n",
        "      return left + \"\\\\cdot \" + right\r\n",
        "    if x[0] == \"/\":\r\n",
        "      return \"\\\\dfrac{\" + expr2latex(x[1]) + \"}{\" + expr2latex(x[2]) + \"}\"\r\n",
        "    if x[0] == \"sqrt\":\r\n",
        "      return \"\\\\sqrt{\" + expr2latex(x[1]) + \"}\"\r\n",
        "    if x[0] == \"sin\":\r\n",
        "      return \"\\\\sin{\" + expr2latex(x[1]) + \"}\"\r\n",
        "def fsqrt(x):\r\n",
        "  return ['sqrt', x]\r\n",
        "\r\n",
        "def fsin(x):\r\n",
        "  return ['sin', x]\r\n",
        "\r\n",
        "def fcos(x):\r\n",
        "  return ['cos', x]\r\n",
        "\r\n",
        "def add(x, y):\r\n",
        "  return ['+', x, y]\r\n",
        "\r\n",
        "def mul(x, y):\r\n",
        "  return ['*', x, y]\r\n",
        "\r\n",
        "def sub(x, y):\r\n",
        "  return ['-', x, y]\r\n",
        "\r\n",
        "def div(x, y):\r\n",
        "  return [\"/\", x, y]\r\n",
        "\r\n",
        "def pow(x, y):\r\n",
        "  return [\"**\", x, y]\r\n",
        "\r\n",
        "class Expression:\r\n",
        "\r\n",
        "  def __init__(self, f):  \r\n",
        "    self.f = f\r\n",
        "\r\n",
        "  def __add__(self, x):\r\n",
        "    x = check(x)\r\n",
        "    return Expression(add(self.f, x.f))\r\n",
        "\r\n",
        "  def __sub__(self, x):\r\n",
        "    x = check(x)\r\n",
        "    return Expression(sub(self.f, x.f))\r\n",
        "\r\n",
        "  def __mul__(self, x):\r\n",
        "    x = check(x)\r\n",
        "    return Expression(mul(self.f, x.f))\r\n",
        "\r\n",
        "  def __truediv__(self, x):\r\n",
        "    x = check(x)\r\n",
        "    return Expression(div(self.f, x.f))\r\n",
        "  \r\n",
        "  def __pow__(self, x):\r\n",
        "    return Expression(pow(self.f, x))\r\n",
        "\r\n",
        "  def evalf(self):\r\n",
        "    return evaluate(self.f)\r\n",
        "\r\n",
        "  def __str__(self):\r\n",
        "    return expr2latex(self.f)\r\n",
        "\r\n",
        "  def show(self):\r\n",
        "    display(Math(expr2latex(self.f)))"
      ],
      "execution_count": 47,
      "outputs": []
    },
    {
      "cell_type": "code",
      "metadata": {
        "colab": {
          "base_uri": "https://localhost:8080/",
          "height": 313
        },
        "id": "N-_R4__aMhTK",
        "outputId": "8d7f4ec5-e2f8-4e42-be37-1659b6284b2a"
      },
      "source": [
        "e1 = Expression(\"x\")\r\n",
        "e2 = Expression('y')\r\n",
        "(e1+e2).show()\r\n",
        "(e1-e2).show()\r\n",
        "(e1/e2).show()\r\n",
        "(e1**3).show()"
      ],
      "execution_count": 48,
      "outputs": [
        {
          "output_type": "error",
          "ename": "NameError",
          "evalue": "ignored",
          "traceback": [
            "\u001b[0;31m---------------------------------------------------------------------------\u001b[0m",
            "\u001b[0;31mNameError\u001b[0m                                 Traceback (most recent call last)",
            "\u001b[0;32m<ipython-input-48-d84b92c95c23>\u001b[0m in \u001b[0;36m<module>\u001b[0;34m()\u001b[0m\n\u001b[1;32m      1\u001b[0m \u001b[0me1\u001b[0m \u001b[0;34m=\u001b[0m \u001b[0mExpression\u001b[0m\u001b[0;34m(\u001b[0m\u001b[0;34m\"x\"\u001b[0m\u001b[0;34m)\u001b[0m\u001b[0;34m\u001b[0m\u001b[0;34m\u001b[0m\u001b[0m\n\u001b[1;32m      2\u001b[0m \u001b[0me2\u001b[0m \u001b[0;34m=\u001b[0m \u001b[0mExpression\u001b[0m\u001b[0;34m(\u001b[0m\u001b[0;34m'y'\u001b[0m\u001b[0;34m)\u001b[0m\u001b[0;34m\u001b[0m\u001b[0;34m\u001b[0m\u001b[0m\n\u001b[0;32m----> 3\u001b[0;31m \u001b[0;34m(\u001b[0m\u001b[0me1\u001b[0m\u001b[0;34m+\u001b[0m\u001b[0me2\u001b[0m\u001b[0;34m)\u001b[0m\u001b[0;34m.\u001b[0m\u001b[0mshow\u001b[0m\u001b[0;34m(\u001b[0m\u001b[0;34m)\u001b[0m\u001b[0;34m\u001b[0m\u001b[0;34m\u001b[0m\u001b[0m\n\u001b[0m\u001b[1;32m      4\u001b[0m \u001b[0;34m(\u001b[0m\u001b[0me1\u001b[0m\u001b[0;34m-\u001b[0m\u001b[0me2\u001b[0m\u001b[0;34m)\u001b[0m\u001b[0;34m.\u001b[0m\u001b[0mshow\u001b[0m\u001b[0;34m(\u001b[0m\u001b[0;34m)\u001b[0m\u001b[0;34m\u001b[0m\u001b[0;34m\u001b[0m\u001b[0m\n\u001b[1;32m      5\u001b[0m \u001b[0;34m(\u001b[0m\u001b[0me1\u001b[0m\u001b[0;34m/\u001b[0m\u001b[0me2\u001b[0m\u001b[0;34m)\u001b[0m\u001b[0;34m.\u001b[0m\u001b[0mshow\u001b[0m\u001b[0;34m(\u001b[0m\u001b[0;34m)\u001b[0m\u001b[0;34m\u001b[0m\u001b[0;34m\u001b[0m\u001b[0m\n",
            "\u001b[0;32m<ipython-input-47-b7a4bca73253>\u001b[0m in \u001b[0;36mshow\u001b[0;34m(self)\u001b[0m\n\u001b[1;32m     87\u001b[0m \u001b[0;34m\u001b[0m\u001b[0m\n\u001b[1;32m     88\u001b[0m   \u001b[0;32mdef\u001b[0m \u001b[0mshow\u001b[0m\u001b[0;34m(\u001b[0m\u001b[0mself\u001b[0m\u001b[0;34m)\u001b[0m\u001b[0;34m:\u001b[0m\u001b[0;34m\u001b[0m\u001b[0;34m\u001b[0m\u001b[0m\n\u001b[0;32m---> 89\u001b[0;31m     \u001b[0mdisplay\u001b[0m\u001b[0;34m(\u001b[0m\u001b[0mMath\u001b[0m\u001b[0;34m(\u001b[0m\u001b[0mexpr2latex\u001b[0m\u001b[0;34m(\u001b[0m\u001b[0mself\u001b[0m\u001b[0;34m.\u001b[0m\u001b[0mf\u001b[0m\u001b[0;34m)\u001b[0m\u001b[0;34m)\u001b[0m\u001b[0;34m)\u001b[0m\u001b[0;34m\u001b[0m\u001b[0;34m\u001b[0m\u001b[0m\n\u001b[0m",
            "\u001b[0;31mNameError\u001b[0m: name 'Math' is not defined"
          ]
        }
      ]
    }
  ]
}