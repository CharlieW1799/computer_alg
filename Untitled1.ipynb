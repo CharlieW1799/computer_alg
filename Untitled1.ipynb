{
  "nbformat": 4,
  "nbformat_minor": 0,
  "metadata": {
    "colab": {
      "name": "Untitled1.ipynb",
      "provenance": [],
      "authorship_tag": "ABX9TyMYRztEOxT+FTMREQrUpPtx",
      "include_colab_link": true
    },
    "kernelspec": {
      "name": "python3",
      "display_name": "Python 3"
    }
  },
  "cells": [
    {
      "cell_type": "markdown",
      "metadata": {
        "id": "view-in-github",
        "colab_type": "text"
      },
      "source": [
        "<a href=\"https://colab.research.google.com/github/redars/computer_alg/blob/main/Untitled1.ipynb\" target=\"_parent\"><img src=\"https://colab.research.google.com/assets/colab-badge.svg\" alt=\"Open In Colab\"/></a>"
      ]
    },
    {
      "cell_type": "code",
      "metadata": {
        "id": "yugqtJMkDch7"
      },
      "source": [
        "class Rational:\r\n",
        "\r\n",
        "  def __init__(self, numerator,denumerator = 1):\r\n",
        "    self.numerator = numerator\r\n",
        "    self.denumerator = denumerator\r\n",
        "\r\n",
        "  def __str__(self):\r\n",
        "    return '({}, {})'.format(self.x, self.y)\r\n",
        "\r\n",
        "  def normalize(self):\r\n",
        "    if(self.denumerator<0):\r\n",
        "      self.denumerator = self.denumerator*-1\r\n",
        "    self.numerator = self.numerator+self.denumerator\r\n",
        "    self.denumerator = self.numerator - self.denumerator\r\n",
        "    self.numerator = self.numerator - self.denumerator\r\n",
        "\r\n",
        "  def __add__(self, other):\r\n",
        "    return Rational(self.numerator*other.denumerator+other.numerator*self.denumerator,self.denumerator * other.denumerator)\r\n",
        "\r\n",
        "  def __sub__(self, other):\r\n",
        "    return Rational(self.numerator*other.denumerator-other.numerator*self.denumerator,self.denumerator * other.denumerator)\r\n",
        "\r\n",
        "  def __mul__(self, other):\r\n",
        "    return Rational(self.numerator*other.numerator,self.denumerator * other.denumerator)\r\n",
        "\r\n",
        "  def __truediv__(self,other):\r\n",
        "    return  Rational(self.numerator*other.denumerator,self.denumerator * other.numerator)\r\n",
        "\r\n",
        "  def __pow__(self,other):\r\n",
        "    return Rational(self.numerator**other,self.denumerator**other)\r\n",
        "  def __radd__(self, other):\r\n",
        "    return Rational(self.numerator*other.denumerator+other.numerator*self.denumerator,self.denumerator * other.denumerator)\r\n",
        "\r\n",
        "  def __rsub__(self, other):\r\n",
        "    return Rational(self.numerator*other.denumerator-other.numerator*self.denumerator,self.denumerator * other.denumerator)\r\n",
        "\r\n",
        "  def __rmul__(self, other):\r\n",
        "    return Rational(self.numerator*other.numerator,self.denumerator * other.denumerator)\r\n",
        "\r\n",
        "  def __rtruediv__(self,other):\r\n",
        "    return  Rational(self.numerator*other.denumerator,self.denumerator * other.numerator)\r\n"
      ],
      "execution_count": 1,
      "outputs": []
    },
    {
      "cell_type": "code",
      "metadata": {
        "colab": {
          "base_uri": "https://localhost:8080/",
          "height": 180
        },
        "id": "vXkSzChXHwac",
        "outputId": "280d4b44-6f51-481c-fb38-9d54cd79974e"
      },
      "source": [
        "r = Rational(6,3)\r\n",
        "print(r.ToString())"
      ],
      "execution_count": 2,
      "outputs": [
        {
          "output_type": "error",
          "ename": "AttributeError",
          "evalue": "ignored",
          "traceback": [
            "\u001b[0;31m---------------------------------------------------------------------------\u001b[0m",
            "\u001b[0;31mAttributeError\u001b[0m                            Traceback (most recent call last)",
            "\u001b[0;32m<ipython-input-2-f1f5ce8ab68c>\u001b[0m in \u001b[0;36m<module>\u001b[0;34m()\u001b[0m\n\u001b[1;32m      1\u001b[0m \u001b[0mr\u001b[0m \u001b[0;34m=\u001b[0m \u001b[0mRational\u001b[0m\u001b[0;34m(\u001b[0m\u001b[0;36m6\u001b[0m\u001b[0;34m,\u001b[0m\u001b[0;36m3\u001b[0m\u001b[0;34m)\u001b[0m\u001b[0;34m\u001b[0m\u001b[0;34m\u001b[0m\u001b[0m\n\u001b[0;32m----> 2\u001b[0;31m \u001b[0mprint\u001b[0m\u001b[0;34m(\u001b[0m\u001b[0mr\u001b[0m\u001b[0;34m.\u001b[0m\u001b[0mstr\u001b[0m\u001b[0;34m(\u001b[0m\u001b[0;34m)\u001b[0m\u001b[0;34m)\u001b[0m\u001b[0;34m\u001b[0m\u001b[0;34m\u001b[0m\u001b[0m\n\u001b[0m",
            "\u001b[0;31mAttributeError\u001b[0m: 'Rational' object has no attribute 'str'"
          ]
        }
      ]
    }
  ]
}