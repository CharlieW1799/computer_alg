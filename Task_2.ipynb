{
  "nbformat": 4,
  "nbformat_minor": 0,
  "metadata": {
    "colab": {
      "name": "Untitled1.ipynb",
      "provenance": [],
      "include_colab_link": true
    },
    "kernelspec": {
      "name": "python3",
      "display_name": "Python 3"
    }
  },
  "cells": [
    {
      "cell_type": "markdown",
      "metadata": {
        "id": "view-in-github",
        "colab_type": "text"
      },
      "source": [
        "<a href=\"https://colab.research.google.com/github/redars/computer_alg/blob/main/Task_2.ipynb\" target=\"_parent\"><img src=\"https://colab.research.google.com/assets/colab-badge.svg\" alt=\"Open In Colab\"/></a>"
      ]
    },
    {
      "cell_type": "code",
      "metadata": {
        "id": "yugqtJMkDch7",
        "colab": {
          "base_uri": "https://localhost:8080/",
          "height": 129
        },
        "outputId": "7fe81b82-fd55-4fe4-aa34-5d7945721260"
      },
      "source": [
        "class Polynomial:\r\n",
        "\r\n",
        "  def __init__(self, list = []):\r\n",
        "    self.list = list\r\n",
        "\r\n",
        "  def __str__(self):\r\n",
        "    s = \"\"\r\n",
        "    i = len(self.list)-1\r\n",
        "    while i>=0:\r\n",
        "      if i!=0:\r\n",
        "        if self.list[i]<0:\r\n",
        "          s+=str(-self.list[i])+\"x^\"+str(i)+\"+\"\r\n",
        "        else:\r\n",
        "          s+=str(self.list[i])+\"x^\"+str(i)+\"+\"\r\n",
        "      else:\r\n",
        "        if self.list[i]<0:\r\n",
        "          s+=str(-self.list[i]\r\n",
        "        else:\r\n",
        "          s+=str(self.list[i]\r\n",
        "      i = i-1\r\n",
        "    return s\r\n",
        "\r\n",
        "  def __add__(self, other):\r\n",
        "    s=[]\r\n",
        "    if len(other.list)>len(self.list):\r\n",
        "      i = len(other.list)-1\r\n",
        "      while i > len(self.list):\r\n",
        "        s.append(other.list[i])\r\n",
        "        i = i-1\r\n",
        "      n = len(self.list)-1\r\n",
        "      while n  > -1:\r\n",
        "        s.append(self.list[i]+other.list[i]);\r\n",
        "        i = i-1\r\n",
        "    if len(other.list)<len(self.list):\r\n",
        "      i = len(self.list)-1\r\n",
        "      while i > len(other.list)-1:\r\n",
        "        s.append(self.list[i])\r\n",
        "        i = i-1\r\n",
        "      n = len(other.list)-1\r\n",
        "      while n  > -1:\r\n",
        "        s.append(self.list[i]+other.list[i]);\r\n",
        "        i = i-1\r\n",
        "    if len(other.list)==len(self.list):\r\n",
        "      i = len(other.list)-1\r\n",
        "      while i  > -1:\r\n",
        "        s.append(self.list[i]+other.list[i]);\r\n",
        "        i = i-1\r\n",
        "    s.reverse()\r\n",
        "    p = Polynomial(s)\r\n",
        "    return p\r\n",
        "        \r\n",
        "\r\n",
        "\r\n",
        "  def __sub__(self, other):\r\n",
        "    s=[]\r\n",
        "    if len(other.list)>len(self.list):\r\n",
        "      i = len(other.list)-1\r\n",
        "      while i > len(self.list):\r\n",
        "        s.append(other.list[i])\r\n",
        "        i = i-1\r\n",
        "      n = len(self.list)-1\r\n",
        "      while n  > -1:\r\n",
        "        s.append(self.list[i]-other.list[i]);\r\n",
        "        i = i-1\r\n",
        "    if len(other.list)<len(self.list):\r\n",
        "      i = len(self.list)-1\r\n",
        "      while i > len(other.list)-1:\r\n",
        "        s.append(self.list[i])\r\n",
        "        i = i-1\r\n",
        "      n = len(other.list)-1\r\n",
        "      while n  > -1:\r\n",
        "        s.append(self.list[i]-other.list[i]);\r\n",
        "        i = i-1\r\n",
        "    if len(other.list)==len(self.list):\r\n",
        "      i = len(other.list)-1\r\n",
        "      while i  > -1:\r\n",
        "        s.append(self.list[i]-other.list[i]);\r\n",
        "        i = i-1\r\n",
        "    s.reverse()\r\n",
        "    p = Polynomial(s)\r\n",
        "    return p\r\n",
        "    \r\n",
        "  def __mul__(self, other):\r\n",
        "    pol1 = self.list\r\n",
        "    pol2 = other.list\r\n",
        "    i = 0\r\n",
        "    return self\r\n",
        "\r\n",
        "    return self\r\n",
        "  def __truediv__(self, other):\r\n",
        "    return self\r\n",
        "\r\n",
        "  def __pow__(self,other):\r\n",
        "    return self\r\n",
        "    \r\n",
        "  \r\n",
        "  def __iadd__(self, other):\r\n",
        "    return self\r\n",
        "    \r\n",
        "  def __isub__(self, other):\r\n",
        "    return self\r\n",
        "    \r\n",
        "    \r\n",
        "  def __imul__(self, other):\r\n",
        "    return self\r\n",
        "    \r\n",
        "  def __idiv__(self, other):\r\n",
        "    return self\r\n",
        "    \r\n",
        "\r\n",
        "  def evalf(self):\r\n",
        "    return self\r\n",
        "    \r\n",
        "\r\n",
        "  def toLatex(self):\r\n",
        "    return self\r\n",
        "    \r\n",
        "\r\n",
        "def check(var):\r\n",
        "  return self\r\n",
        "  \r\n"
      ],
      "execution_count": 68,
      "outputs": [
        {
          "output_type": "error",
          "ename": "SyntaxError",
          "evalue": "ignored",
          "traceback": [
            "\u001b[0;36m  File \u001b[0;32m\"<ipython-input-68-2db0a6883525>\"\u001b[0;36m, line \u001b[0;32m18\u001b[0m\n\u001b[0;31m    else:\u001b[0m\n\u001b[0m       ^\u001b[0m\n\u001b[0;31mSyntaxError\u001b[0m\u001b[0;31m:\u001b[0m invalid syntax\n"
          ]
        }
      ]
    },
    {
      "cell_type": "code",
      "metadata": {
        "id": "vXkSzChXHwac",
        "colab": {
          "base_uri": "https://localhost:8080/"
        },
        "outputId": "92e0c177-d12f-43f2-f60e-2540ae6c6a33"
      },
      "source": [
        "p1 = Polynomial([5,3,4])\r\n",
        "p2 = Polynomial([4,6,2])\r\n",
        "print(str(p1))\r\n",
        "print(str(p2))\r\n",
        "print(\"+: \"+str(p1+p2))\r\n",
        "print(\"-: \"+str(p1-p2))\r\n"
      ],
      "execution_count": 61,
      "outputs": [
        {
          "output_type": "stream",
          "text": [
            "\n",
            "\n",
            "+: \n",
            "-: 3x^1+\n"
          ],
          "name": "stdout"
        }
      ]
    }
  ]
}