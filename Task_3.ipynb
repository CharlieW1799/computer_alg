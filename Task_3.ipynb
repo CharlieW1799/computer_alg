{
  "nbformat": 4,
  "nbformat_minor": 0,
  "metadata": {
    "colab": {
      "name": "Untitled2.ipynb",
      "provenance": [],
      "include_colab_link": true
    },
    "kernelspec": {
      "name": "python3",
      "display_name": "Python 3"
    }
  },
  "cells": [
    {
      "cell_type": "markdown",
      "metadata": {
        "id": "view-in-github",
        "colab_type": "text"
      },
      "source": [
        "<a href=\"https://colab.research.google.com/github/redars/computer_alg/blob/main/Task_3.ipynb\" target=\"_parent\"><img src=\"https://colab.research.google.com/assets/colab-badge.svg\" alt=\"Open In Colab\"/></a>"
      ]
    },
    {
      "cell_type": "code",
      "metadata": {
        "id": "N0Dkaxe_KmyL"
      },
      "source": [
        "import math\n",
        "from IPython.display import display, Math\n",
        "\n",
        "def check(x):\n",
        "  if isinstance(x, Expression):\n",
        "    return x\n",
        "  return Expression(x)\n",
        "\n",
        "def expr2latex(x):\n",
        "  if isinstance(x, (int, float)):\n",
        "    return str(x)\n",
        "  if isinstance(x, str):\n",
        "    return x\n",
        "  if isinstance(x, list):\n",
        "    if x[0] == \"**\":\n",
        "      return expr2latex(x[1]) + \"^\" + expr2latex(x[2])\n",
        "    if x[0] == \"+\":\n",
        "      return expr2latex(x[1]) + \"+\" + expr2latex(x[2])\n",
        "    if x[0] == \"-\":\n",
        "      return expr2latex(x[1]) + \"-\" + expr2latex(x[2])\n",
        "    if x[0] == \"*\":\n",
        "      left = expr2latex(x[1])\n",
        "      if isinstance(x[1], list) and x[1][0] == \"+\":\n",
        "        left = \"(\" + left + \")\"\n",
        "      right = expr2latex(x[2])\n",
        "      if isinstance(x[2], list) and x[2][0] == \"+\":\n",
        "        right = \"(\" + right + \")\"\n",
        "      return left + \"\\\\cdot \" + right\n",
        "    if x[0] == \"/\":\n",
        "      return \"\\\\dfrac{\" + expr2latex(x[1]) + \"}{\" + expr2latex(x[2]) + \"}\"\n",
        "    if x[0] == \"arcsin\":\n",
        "      return \"\\\\arcsin{\" + expr2latex(x[1]) + \"}\"\n",
        "    if x[0] == \"arccos\":\n",
        "      return \"\\\\arccos{\" + expr2latex(x[1]) + \"}\"\n",
        "    if x[0] == \"arctg\":\n",
        "      return \"\\\\arctg{\" + expr2latex(x[1]) + \"}\"\n",
        "    if x[0] == \"arcctg\":\n",
        "      return \"\\\\arcctg{\" + expr2latex(x[1]) + \"}\"\n",
        "    if x[0] == \"sqrt\":\n",
        "      return \"\\\\sqrt{\" + expr2latex(x[1]) + \"}\"\n",
        "    if x[0] == \"ln\":\n",
        "      return \"\\\\ln{\" + expr2latex(x[1]) + \"}\"\n",
        "    if x[0] == \"lg\":\n",
        "      return \"\\\\lg{\" + expr2latex(x[1]) + \"}\"\n",
        "    if x[0] == \"sin\":\n",
        "      return \"\\\\sin{\" + expr2latex(x[1]) + \"}\"\n",
        "    if x[0] == \"cos\":\n",
        "      return \"\\\\cos{\" + expr2latex(x[1]) + \"}\"\n",
        "    if x[0] == \"tg\":\n",
        "      return \"\\\\tg{\" + expr2latex(x[1]) + \"}\"\n",
        "    if x[0] == \"ctg\":\n",
        "      return \"\\\\ctg{\" + expr2latex(x[1]) + \"}\"\n",
        "\n",
        "\n",
        "def sqrt(x):\n",
        "  x = check(x)\n",
        "  t = x.f\n",
        "  r = fsqrt(t)\n",
        "  return Expression(r)\n",
        "\n",
        "def ln(x):\n",
        "  x = check(x)\n",
        "  t = x.f\n",
        "  r = fln(t)\n",
        "  return Expression(r)\n",
        "\n",
        "def lg(x):\n",
        "  x = check(x)\n",
        "  t = x.f\n",
        "  r = flg(t)\n",
        "  return Expression(r)\n",
        "\n",
        "def sin(x):\n",
        "  x = check(x)\n",
        "  t = x.f\n",
        "  r = fsin(t)\n",
        "  return Expression(r)\n",
        "\n",
        "def cos(x):\n",
        "  x = check(x)\n",
        "  t = x.f\n",
        "  r = fcos(t)\n",
        "  return Expression(r)\n",
        "\n",
        "def tg(x):\n",
        "  x = check(x)\n",
        "  t = x.f\n",
        "  r = ftg(t)\n",
        "  return Expression(r)\n",
        "\n",
        "def ctg(x):\n",
        "  x = check(x)\n",
        "  t = x.f\n",
        "  r = fctg(t)\n",
        "  return Expression(r)\n",
        "\n",
        "def arcsin(x):\n",
        "  x = check(x)\n",
        "  t = x.f\n",
        "  r = farcsin(t)\n",
        "  return Expression(r)\n",
        "\n",
        "def arccos(x):\n",
        "  x = check(x)\n",
        "  t = x.f\n",
        "  r = farccos(t)\n",
        "  return Expression(r)\n",
        "\n",
        "def arctg(x):\n",
        "  x = check(x)\n",
        "  t = x.f\n",
        "  r = farctg(t)\n",
        "  return Expression(r)\n",
        "\n",
        "def arcctg(x):\n",
        "  x = check(x)\n",
        "  t = x.f\n",
        "  r = farcctg(t)\n",
        "  return Expression(r)\n",
        "\n",
        "def fsin(x):\n",
        "  return ['sin',x]\n",
        "\n",
        "def fcos(x):\n",
        "  return ['cos',x]\n",
        "\n",
        "def ftg(x):\n",
        "  return ['tg',x]\n",
        "\n",
        "def fctg(x):\n",
        "  return ['ctg',x]\n",
        "\n",
        "def farcsin(x):\n",
        "  return ['arcsin',x]\n",
        "\n",
        "def farccos(x):\n",
        "  return ['arccos',x]\n",
        "\n",
        "def farctg(x):\n",
        "  return ['arctg',x]\n",
        "\n",
        "def farcctg(x):\n",
        "  return ['arcctg',x]\n",
        "\n",
        "def fln(x):\n",
        "  return ['ln',x]\n",
        "\n",
        "def flg(x):\n",
        "  return ['lg',x]\n",
        "\n",
        "def fsqrt(x):\n",
        "  return ['sqrt', x]\n",
        "\n",
        "def add(x, y):\n",
        "  return ['+', x, y]\n",
        "\n",
        "def mul(x, y):\n",
        "  return ['*', x, y]\n",
        "\n",
        "def sub(x, y):\n",
        "  return ['-', x, y]\n",
        "\n",
        "def div(x, y):\n",
        "  return [\"/\", x, y]\n",
        "\n",
        "def pow(x, y):\n",
        "  return [\"**\", x, y]\n",
        "\n",
        "class Expression:\n",
        "  def __init__(self, f):\n",
        "    self.f = f\n",
        "  def __add__(self, x):\n",
        "    x = check(x)\n",
        "    return Expression(add(self.f, x.f))\n",
        "  def __pow__(self, x):\n",
        "    x = check(x)\n",
        "    return Expression(pow(self.f, x.f))\n",
        "  def __mul__(self, x):\n",
        "    x = check(x)\n",
        "    return Expression(mul(self.f, x.f))\n",
        "  def __sub__(self, x):\n",
        "    x = check(x)\n",
        "    return Expression(sub(self.f, x.f))\n",
        "  def __truediv__(self, x):\n",
        "    x = check(x)\n",
        "    return Expression(div(self.f, x.f))\n",
        "  def subs(self, var, val):\n",
        "    return Expression(substitute(self.f, var, val))\n",
        "  def evalf(self):\n",
        "    return evaluate(self.f)\n",
        "  def __str__(self):\n",
        "    return expr2latex(self.f)\n",
        "  def show(self):\n",
        "    display(Math(expr2latex(self.f)))\n",
        "\n",
        "def evaluate(f):\n",
        "  if isinstance(f, (int, float)):\n",
        "    return f\n",
        "  elif isinstance(f, list):\n",
        "    if f[0] == \"+\": \n",
        "      return evaluate(f[1]) + evaluate(f[2])\n",
        "    elif f[0] == \"*\":\n",
        "      return evaluate(f[1]) * evaluate(f[2])\n",
        "    elif f[0] == \"sqrt\":\n",
        "      return math.sqrt(evaluate(f[1]))\n",
        "    elif f[0] == \"sin\":\n",
        "      return math.sin(evaluate(f[1]))\n",
        "    elif f[0] == \"cos\":\n",
        "      return math.cos(evaluate(f[1]))\n",
        "  return None"
      ],
      "execution_count": 45,
      "outputs": []
    },
    {
      "cell_type": "code",
      "metadata": {
        "colab": {
          "base_uri": "https://localhost:8080/",
          "height": 365
        },
        "id": "N-_R4__aMhTK",
        "outputId": "06868801-b794-44ad-b211-bfa3bf5e3c2b"
      },
      "source": [
        "e1 = Expression(\"x\")\n",
        "e2 = Expression('y')\n",
        "e3 = sqrt('x')\n",
        "e4 = ln('x')\n",
        "e5 = lg('x')\n",
        "e6 = sin('x')\n",
        "e7 = cos('x')\n",
        "e8 = tg('x')\n",
        "e9 = ctg('x')\n",
        "e10 = sin('x')\n",
        "e11 = cos('x')\n",
        "e12 = tg('x')\n",
        "e13 = ctg('x')\n",
        "(e1+e2).show()\n",
        "(e1-e2).show()\n",
        "(e1/e2).show()\n",
        "(e1*e2).show()\n",
        "(e1**3).show()\n",
        "e3.show()\n",
        "e4.show()\n",
        "e5.show()\n",
        "e6.show()\n",
        "e7.show()\n",
        "e8.show()\n",
        "e9.show()\n",
        "e10.show()\n",
        "e11.show()\n",
        "e12.show()\n",
        "e13.show()"
      ],
      "execution_count": 46,
      "outputs": [
        {
          "output_type": "display_data",
          "data": {
            "text/latex": "$$x+y$$",
            "text/plain": [
              "<IPython.core.display.Math object>"
            ]
          },
          "metadata": {
            "tags": []
          }
        },
        {
          "output_type": "display_data",
          "data": {
            "text/latex": "$$x-y$$",
            "text/plain": [
              "<IPython.core.display.Math object>"
            ]
          },
          "metadata": {
            "tags": []
          }
        },
        {
          "output_type": "display_data",
          "data": {
            "text/latex": "$$\\dfrac{x}{y}$$",
            "text/plain": [
              "<IPython.core.display.Math object>"
            ]
          },
          "metadata": {
            "tags": []
          }
        },
        {
          "output_type": "display_data",
          "data": {
            "text/latex": "$$x\\cdot y$$",
            "text/plain": [
              "<IPython.core.display.Math object>"
            ]
          },
          "metadata": {
            "tags": []
          }
        },
        {
          "output_type": "display_data",
          "data": {
            "text/latex": "$$x^3$$",
            "text/plain": [
              "<IPython.core.display.Math object>"
            ]
          },
          "metadata": {
            "tags": []
          }
        },
        {
          "output_type": "display_data",
          "data": {
            "text/latex": "$$\\sqrt{x}$$",
            "text/plain": [
              "<IPython.core.display.Math object>"
            ]
          },
          "metadata": {
            "tags": []
          }
        },
        {
          "output_type": "display_data",
          "data": {
            "text/latex": "$$\\ln{x}$$",
            "text/plain": [
              "<IPython.core.display.Math object>"
            ]
          },
          "metadata": {
            "tags": []
          }
        },
        {
          "output_type": "display_data",
          "data": {
            "text/latex": "$$\\lg{x}$$",
            "text/plain": [
              "<IPython.core.display.Math object>"
            ]
          },
          "metadata": {
            "tags": []
          }
        },
        {
          "output_type": "display_data",
          "data": {
            "text/latex": "$$\\sin{x}$$",
            "text/plain": [
              "<IPython.core.display.Math object>"
            ]
          },
          "metadata": {
            "tags": []
          }
        },
        {
          "output_type": "display_data",
          "data": {
            "text/latex": "$$\\cos{x}$$",
            "text/plain": [
              "<IPython.core.display.Math object>"
            ]
          },
          "metadata": {
            "tags": []
          }
        },
        {
          "output_type": "display_data",
          "data": {
            "text/latex": "$$\\tg{x}$$",
            "text/plain": [
              "<IPython.core.display.Math object>"
            ]
          },
          "metadata": {
            "tags": []
          }
        },
        {
          "output_type": "display_data",
          "data": {
            "text/latex": "$$\\ctg{x}$$",
            "text/plain": [
              "<IPython.core.display.Math object>"
            ]
          },
          "metadata": {
            "tags": []
          }
        },
        {
          "output_type": "display_data",
          "data": {
            "text/latex": "$$\\sin{x}$$",
            "text/plain": [
              "<IPython.core.display.Math object>"
            ]
          },
          "metadata": {
            "tags": []
          }
        },
        {
          "output_type": "display_data",
          "data": {
            "text/latex": "$$\\cos{x}$$",
            "text/plain": [
              "<IPython.core.display.Math object>"
            ]
          },
          "metadata": {
            "tags": []
          }
        },
        {
          "output_type": "display_data",
          "data": {
            "text/latex": "$$\\tg{x}$$",
            "text/plain": [
              "<IPython.core.display.Math object>"
            ]
          },
          "metadata": {
            "tags": []
          }
        },
        {
          "output_type": "display_data",
          "data": {
            "text/latex": "$$\\ctg{x}$$",
            "text/plain": [
              "<IPython.core.display.Math object>"
            ]
          },
          "metadata": {
            "tags": []
          }
        }
      ]
    }
  ]
}