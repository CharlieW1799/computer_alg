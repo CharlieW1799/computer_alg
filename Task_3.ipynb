{
  "nbformat": 4,
  "nbformat_minor": 0,
  "metadata": {
    "colab": {
      "name": "Untitled2.ipynb",
      "provenance": [],
      "authorship_tag": "ABX9TyOkdXPAmhSWYTM0FA9bf7FQ",
      "include_colab_link": true
    },
    "kernelspec": {
      "name": "python3",
      "display_name": "Python 3"
    }
  },
  "cells": [
    {
      "cell_type": "markdown",
      "metadata": {
        "id": "view-in-github",
        "colab_type": "text"
      },
      "source": [
        "<a href=\"https://colab.research.google.com/github/redars/computer_alg/blob/main/Task_3.ipynb\" target=\"_parent\"><img src=\"https://colab.research.google.com/assets/colab-badge.svg\" alt=\"Open In Colab\"/></a>"
      ]
    },
    {
      "cell_type": "code",
      "metadata": {
        "id": "N0Dkaxe_KmyL"
      },
      "source": [
        "class Expression:\r\n",
        "\r\n",
        "  def __init__(self, f):\r\n",
        "    self.f = f\r\n",
        "\r\n",
        "  def __add__(self, x):\r\n",
        "    x = check(x)\r\n",
        "    return Expression(add(self.f, x.f))\r\n",
        "\r\n",
        "  def __mul__(self, x):\r\n",
        "    x = check(x)\r\n",
        "    return Expression(mul(self.f, x.f))\r\n",
        "\r\n",
        "  def __truediv__(self, x):\r\n",
        "    x = check(x)\r\n",
        "    return Expression(div(self.f, x.f))\r\n",
        "\r\n",
        "  def __radd__(self, x):\r\n",
        "    x = check(x)\r\n",
        "    return Expression(add(x.f, self.f))\r\n",
        "\r\n",
        "  def __rmul__(self, x):\r\n",
        "    x = check(x)\r\n",
        "    return Expression(mul(x.f, self.f))\r\n",
        "\r\n",
        "  def subs(self, var, val):\r\n",
        "    return Expression(substitute(self.f, var, val))\r\n",
        "\r\n",
        "  def evalf(self):\r\n",
        "    return evaluate(self.f)\r\n",
        "\r\n",
        "  def __str__(self):\r\n",
        "    return expr2latex(self.f)\r\n",
        "    \r\n",
        "  def show(self):\r\n",
        "    display(Math(expr2latex(self.f)))\r\n",
        "\r\n",
        "def check(x):\r\n",
        "  if isinstance(x, Expression):\r\n",
        "    return x\r\n",
        "  return Expression(x)"
      ],
      "execution_count": null,
      "outputs": []
    }
  ]
}